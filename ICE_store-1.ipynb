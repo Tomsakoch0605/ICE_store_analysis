{
 "cells": [
  {
   "cell_type": "code",
   "execution_count": 1,
   "id": "872f3e36",
   "metadata": {},
   "outputs": [],
   "source": [
    "#Importando librerias\n",
    "import numpy as np  \n",
    "import pandas as pd\n",
    "import matplotlib.pyplot as plt\n",
    "import seaborn as sns"
   ]
  },
  {
   "cell_type": "code",
   "execution_count": 2,
   "id": "2c0ff6b8",
   "metadata": {},
   "outputs": [],
   "source": [
    "#cargando datos de juegos\n",
    "df_games = pd.read_csv(r'C:/Users/alex_\\Downloads/games.csv')"
   ]
  },
  {
   "cell_type": "code",
   "execution_count": 3,
   "id": "1aaa4652",
   "metadata": {},
   "outputs": [
    {
     "data": {
      "application/vnd.microsoft.datawrangler.viewer.v0+json": {
       "columns": [
        {
         "name": "index",
         "rawType": "int64",
         "type": "integer"
        },
        {
         "name": "Name",
         "rawType": "object",
         "type": "unknown"
        },
        {
         "name": "Platform",
         "rawType": "object",
         "type": "string"
        },
        {
         "name": "Year_of_Release",
         "rawType": "float64",
         "type": "float"
        },
        {
         "name": "Genre",
         "rawType": "object",
         "type": "unknown"
        },
        {
         "name": "NA_sales",
         "rawType": "float64",
         "type": "float"
        },
        {
         "name": "EU_sales",
         "rawType": "float64",
         "type": "float"
        },
        {
         "name": "JP_sales",
         "rawType": "float64",
         "type": "float"
        },
        {
         "name": "Other_sales",
         "rawType": "float64",
         "type": "float"
        },
        {
         "name": "Critic_Score",
         "rawType": "float64",
         "type": "float"
        },
        {
         "name": "User_Score",
         "rawType": "object",
         "type": "unknown"
        },
        {
         "name": "Rating",
         "rawType": "object",
         "type": "unknown"
        }
       ],
       "ref": "330b80f5-75e0-4a03-b1b3-5a3eca0182f2",
       "rows": [
        [
         "0",
         "Wii Sports",
         "Wii",
         "2006.0",
         "Sports",
         "41.36",
         "28.96",
         "3.77",
         "8.45",
         "76.0",
         "8",
         "E"
        ],
        [
         "1",
         "Super Mario Bros.",
         "NES",
         "1985.0",
         "Platform",
         "29.08",
         "3.58",
         "6.81",
         "0.77",
         null,
         null,
         null
        ],
        [
         "2",
         "Mario Kart Wii",
         "Wii",
         "2008.0",
         "Racing",
         "15.68",
         "12.76",
         "3.79",
         "3.29",
         "82.0",
         "8.3",
         "E"
        ],
        [
         "3",
         "Wii Sports Resort",
         "Wii",
         "2009.0",
         "Sports",
         "15.61",
         "10.93",
         "3.28",
         "2.95",
         "80.0",
         "8",
         "E"
        ],
        [
         "4",
         "Pokemon Red/Pokemon Blue",
         "GB",
         "1996.0",
         "Role-Playing",
         "11.27",
         "8.89",
         "10.22",
         "1.0",
         null,
         null,
         null
        ],
        [
         "5",
         "Tetris",
         "GB",
         "1989.0",
         "Puzzle",
         "23.2",
         "2.26",
         "4.22",
         "0.58",
         null,
         null,
         null
        ],
        [
         "6",
         "New Super Mario Bros.",
         "DS",
         "2006.0",
         "Platform",
         "11.28",
         "9.14",
         "6.5",
         "2.88",
         "89.0",
         "8.5",
         "E"
        ],
        [
         "7",
         "Wii Play",
         "Wii",
         "2006.0",
         "Misc",
         "13.96",
         "9.18",
         "2.93",
         "2.84",
         "58.0",
         "6.6",
         "E"
        ],
        [
         "8",
         "New Super Mario Bros. Wii",
         "Wii",
         "2009.0",
         "Platform",
         "14.44",
         "6.94",
         "4.7",
         "2.24",
         "87.0",
         "8.4",
         "E"
        ],
        [
         "9",
         "Duck Hunt",
         "NES",
         "1984.0",
         "Shooter",
         "26.93",
         "0.63",
         "0.28",
         "0.47",
         null,
         null,
         null
        ],
        [
         "10",
         "Nintendogs",
         "DS",
         "2005.0",
         "Simulation",
         "9.05",
         "10.95",
         "1.93",
         "2.74",
         null,
         null,
         null
        ],
        [
         "11",
         "Mario Kart DS",
         "DS",
         "2005.0",
         "Racing",
         "9.71",
         "7.47",
         "4.13",
         "1.9",
         "91.0",
         "8.6",
         "E"
        ],
        [
         "12",
         "Pokemon Gold/Pokemon Silver",
         "GB",
         "1999.0",
         "Role-Playing",
         "9.0",
         "6.18",
         "7.2",
         "0.71",
         null,
         null,
         null
        ],
        [
         "13",
         "Wii Fit",
         "Wii",
         "2007.0",
         "Sports",
         "8.92",
         "8.03",
         "3.6",
         "2.15",
         "80.0",
         "7.7",
         "E"
        ],
        [
         "14",
         "Kinect Adventures!",
         "X360",
         "2010.0",
         "Misc",
         "15.0",
         "4.89",
         "0.24",
         "1.69",
         "61.0",
         "6.3",
         "E"
        ],
        [
         "15",
         "Wii Fit Plus",
         "Wii",
         "2009.0",
         "Sports",
         "9.01",
         "8.49",
         "2.53",
         "1.77",
         "80.0",
         "7.4",
         "E"
        ],
        [
         "16",
         "Grand Theft Auto V",
         "PS3",
         "2013.0",
         "Action",
         "7.02",
         "9.09",
         "0.98",
         "3.96",
         "97.0",
         "8.2",
         "M"
        ],
        [
         "17",
         "Grand Theft Auto: San Andreas",
         "PS2",
         "2004.0",
         "Action",
         "9.43",
         "0.4",
         "0.41",
         "10.57",
         "95.0",
         "9",
         "M"
        ],
        [
         "18",
         "Super Mario World",
         "SNES",
         "1990.0",
         "Platform",
         "12.78",
         "3.75",
         "3.54",
         "0.55",
         null,
         null,
         null
        ],
        [
         "19",
         "Brain Age: Train Your Brain in Minutes a Day",
         "DS",
         "2005.0",
         "Misc",
         "4.74",
         "9.2",
         "4.16",
         "2.04",
         "77.0",
         "7.9",
         "E"
        ],
        [
         "20",
         "Pokemon Diamond/Pokemon Pearl",
         "DS",
         "2006.0",
         "Role-Playing",
         "6.38",
         "4.46",
         "6.04",
         "1.36",
         null,
         null,
         null
        ],
        [
         "21",
         "Super Mario Land",
         "GB",
         "1989.0",
         "Platform",
         "10.83",
         "2.71",
         "4.18",
         "0.42",
         null,
         null,
         null
        ],
        [
         "22",
         "Super Mario Bros. 3",
         "NES",
         "1988.0",
         "Platform",
         "9.54",
         "3.44",
         "3.84",
         "0.46",
         null,
         null,
         null
        ],
        [
         "23",
         "Grand Theft Auto V",
         "X360",
         "2013.0",
         "Action",
         "9.66",
         "5.14",
         "0.06",
         "1.41",
         "97.0",
         "8.1",
         "M"
        ],
        [
         "24",
         "Grand Theft Auto: Vice City",
         "PS2",
         "2002.0",
         "Action",
         "8.41",
         "5.49",
         "0.47",
         "1.78",
         "95.0",
         "8.7",
         "M"
        ],
        [
         "25",
         "Pokemon Ruby/Pokemon Sapphire",
         "GBA",
         "2002.0",
         "Role-Playing",
         "6.06",
         "3.9",
         "5.38",
         "0.5",
         null,
         null,
         null
        ],
        [
         "26",
         "Brain Age 2: More Training in Minutes a Day",
         "DS",
         "2005.0",
         "Puzzle",
         "3.43",
         "5.35",
         "5.32",
         "1.18",
         "77.0",
         "7.1",
         "E"
        ],
        [
         "27",
         "Pokemon Black/Pokemon White",
         "DS",
         "2010.0",
         "Role-Playing",
         "5.51",
         "3.17",
         "5.65",
         "0.8",
         null,
         null,
         null
        ],
        [
         "28",
         "Gran Turismo 3: A-Spec",
         "PS2",
         "2001.0",
         "Racing",
         "6.85",
         "5.09",
         "1.87",
         "1.16",
         "95.0",
         "8.4",
         "E"
        ],
        [
         "29",
         "Call of Duty: Modern Warfare 3",
         "X360",
         "2011.0",
         "Shooter",
         "9.04",
         "4.24",
         "0.13",
         "1.32",
         "88.0",
         "3.4",
         "M"
        ],
        [
         "30",
         "Pokémon Yellow: Special Pikachu Edition",
         "GB",
         "1998.0",
         "Role-Playing",
         "5.89",
         "5.04",
         "3.12",
         "0.59",
         null,
         null,
         null
        ],
        [
         "31",
         "Call of Duty: Black Ops 3",
         "PS4",
         "2015.0",
         "Shooter",
         "6.03",
         "5.86",
         "0.36",
         "2.38",
         null,
         null,
         null
        ],
        [
         "32",
         "Call of Duty: Black Ops",
         "X360",
         "2010.0",
         "Shooter",
         "9.7",
         "3.68",
         "0.11",
         "1.13",
         "87.0",
         "6.3",
         "M"
        ],
        [
         "33",
         "Pokemon X/Pokemon Y",
         "3DS",
         "2013.0",
         "Role-Playing",
         "5.28",
         "4.19",
         "4.35",
         "0.78",
         null,
         null,
         null
        ],
        [
         "34",
         "Call of Duty: Black Ops II",
         "PS3",
         "2012.0",
         "Shooter",
         "4.99",
         "5.73",
         "0.65",
         "2.42",
         "83.0",
         "5.3",
         "M"
        ],
        [
         "35",
         "Call of Duty: Black Ops II",
         "X360",
         "2012.0",
         "Shooter",
         "8.25",
         "4.24",
         "0.07",
         "1.12",
         "83.0",
         "4.8",
         "M"
        ],
        [
         "36",
         "Call of Duty: Modern Warfare 2",
         "X360",
         "2009.0",
         "Shooter",
         "8.52",
         "3.59",
         "0.08",
         "1.28",
         "94.0",
         "6.3",
         "M"
        ],
        [
         "37",
         "Call of Duty: Modern Warfare 3",
         "PS3",
         "2011.0",
         "Shooter",
         "5.54",
         "5.73",
         "0.49",
         "1.57",
         "88.0",
         "3.2",
         "M"
        ],
        [
         "38",
         "Grand Theft Auto III",
         "PS2",
         "2001.0",
         "Action",
         "6.99",
         "4.51",
         "0.3",
         "1.3",
         "97.0",
         "8.5",
         "M"
        ],
        [
         "39",
         "Super Smash Bros. Brawl",
         "Wii",
         "2008.0",
         "Fighting",
         "6.62",
         "2.55",
         "2.66",
         "1.01",
         "93.0",
         "8.9",
         "T"
        ],
        [
         "40",
         "Mario Kart 7",
         "3DS",
         "2011.0",
         "Racing",
         "5.03",
         "4.02",
         "2.69",
         "0.91",
         "85.0",
         "8.2",
         "E"
        ],
        [
         "41",
         "Call of Duty: Black Ops",
         "PS3",
         "2010.0",
         "Shooter",
         "5.99",
         "4.37",
         "0.48",
         "1.79",
         "88.0",
         "6.4",
         "M"
        ],
        [
         "42",
         "Grand Theft Auto V",
         "PS4",
         "2014.0",
         "Action",
         "3.96",
         "6.31",
         "0.38",
         "1.97",
         "97.0",
         "8.3",
         "M"
        ],
        [
         "43",
         "Animal Crossing: Wild World",
         "DS",
         "2005.0",
         "Simulation",
         "2.5",
         "3.45",
         "5.33",
         "0.86",
         "86.0",
         "8.7",
         "E"
        ],
        [
         "44",
         "Halo 3",
         "X360",
         "2007.0",
         "Shooter",
         "7.97",
         "2.81",
         "0.13",
         "1.21",
         "94.0",
         "7.8",
         "M"
        ],
        [
         "45",
         "Super Mario 64",
         "N64",
         "1996.0",
         "Platform",
         "6.91",
         "2.85",
         "1.91",
         "0.23",
         null,
         null,
         null
        ],
        [
         "46",
         "Pokemon HeartGold/Pokemon SoulSilver",
         "DS",
         "2009.0",
         "Action",
         "4.34",
         "2.71",
         "3.96",
         "0.76",
         null,
         null,
         null
        ],
        [
         "47",
         "Pokemon Omega Ruby/Pokemon Alpha Sapphire",
         "3DS",
         "2014.0",
         "Role-Playing",
         "4.35",
         "3.49",
         "3.1",
         "0.74",
         null,
         null,
         null
        ],
        [
         "48",
         "Gran Turismo 4",
         "PS2",
         "2004.0",
         "Racing",
         "3.01",
         "0.01",
         "1.1",
         "7.53",
         "89.0",
         "8.5",
         "E"
        ],
        [
         "49",
         "Super Mario Galaxy",
         "Wii",
         "2007.0",
         "Platform",
         "6.06",
         "3.35",
         "1.2",
         "0.74",
         "97.0",
         "8.9",
         "E"
        ]
       ],
       "shape": {
        "columns": 11,
        "rows": 16715
       }
      },
      "text/html": [
       "<div>\n",
       "<style scoped>\n",
       "    .dataframe tbody tr th:only-of-type {\n",
       "        vertical-align: middle;\n",
       "    }\n",
       "\n",
       "    .dataframe tbody tr th {\n",
       "        vertical-align: top;\n",
       "    }\n",
       "\n",
       "    .dataframe thead th {\n",
       "        text-align: right;\n",
       "    }\n",
       "</style>\n",
       "<table border=\"1\" class=\"dataframe\">\n",
       "  <thead>\n",
       "    <tr style=\"text-align: right;\">\n",
       "      <th></th>\n",
       "      <th>Name</th>\n",
       "      <th>Platform</th>\n",
       "      <th>Year_of_Release</th>\n",
       "      <th>Genre</th>\n",
       "      <th>NA_sales</th>\n",
       "      <th>EU_sales</th>\n",
       "      <th>JP_sales</th>\n",
       "      <th>Other_sales</th>\n",
       "      <th>Critic_Score</th>\n",
       "      <th>User_Score</th>\n",
       "      <th>Rating</th>\n",
       "    </tr>\n",
       "  </thead>\n",
       "  <tbody>\n",
       "    <tr>\n",
       "      <th>0</th>\n",
       "      <td>Wii Sports</td>\n",
       "      <td>Wii</td>\n",
       "      <td>2006.0</td>\n",
       "      <td>Sports</td>\n",
       "      <td>41.36</td>\n",
       "      <td>28.96</td>\n",
       "      <td>3.77</td>\n",
       "      <td>8.45</td>\n",
       "      <td>76.0</td>\n",
       "      <td>8</td>\n",
       "      <td>E</td>\n",
       "    </tr>\n",
       "    <tr>\n",
       "      <th>1</th>\n",
       "      <td>Super Mario Bros.</td>\n",
       "      <td>NES</td>\n",
       "      <td>1985.0</td>\n",
       "      <td>Platform</td>\n",
       "      <td>29.08</td>\n",
       "      <td>3.58</td>\n",
       "      <td>6.81</td>\n",
       "      <td>0.77</td>\n",
       "      <td>NaN</td>\n",
       "      <td>NaN</td>\n",
       "      <td>NaN</td>\n",
       "    </tr>\n",
       "    <tr>\n",
       "      <th>2</th>\n",
       "      <td>Mario Kart Wii</td>\n",
       "      <td>Wii</td>\n",
       "      <td>2008.0</td>\n",
       "      <td>Racing</td>\n",
       "      <td>15.68</td>\n",
       "      <td>12.76</td>\n",
       "      <td>3.79</td>\n",
       "      <td>3.29</td>\n",
       "      <td>82.0</td>\n",
       "      <td>8.3</td>\n",
       "      <td>E</td>\n",
       "    </tr>\n",
       "    <tr>\n",
       "      <th>3</th>\n",
       "      <td>Wii Sports Resort</td>\n",
       "      <td>Wii</td>\n",
       "      <td>2009.0</td>\n",
       "      <td>Sports</td>\n",
       "      <td>15.61</td>\n",
       "      <td>10.93</td>\n",
       "      <td>3.28</td>\n",
       "      <td>2.95</td>\n",
       "      <td>80.0</td>\n",
       "      <td>8</td>\n",
       "      <td>E</td>\n",
       "    </tr>\n",
       "    <tr>\n",
       "      <th>4</th>\n",
       "      <td>Pokemon Red/Pokemon Blue</td>\n",
       "      <td>GB</td>\n",
       "      <td>1996.0</td>\n",
       "      <td>Role-Playing</td>\n",
       "      <td>11.27</td>\n",
       "      <td>8.89</td>\n",
       "      <td>10.22</td>\n",
       "      <td>1.00</td>\n",
       "      <td>NaN</td>\n",
       "      <td>NaN</td>\n",
       "      <td>NaN</td>\n",
       "    </tr>\n",
       "    <tr>\n",
       "      <th>...</th>\n",
       "      <td>...</td>\n",
       "      <td>...</td>\n",
       "      <td>...</td>\n",
       "      <td>...</td>\n",
       "      <td>...</td>\n",
       "      <td>...</td>\n",
       "      <td>...</td>\n",
       "      <td>...</td>\n",
       "      <td>...</td>\n",
       "      <td>...</td>\n",
       "      <td>...</td>\n",
       "    </tr>\n",
       "    <tr>\n",
       "      <th>16710</th>\n",
       "      <td>Samurai Warriors: Sanada Maru</td>\n",
       "      <td>PS3</td>\n",
       "      <td>2016.0</td>\n",
       "      <td>Action</td>\n",
       "      <td>0.00</td>\n",
       "      <td>0.00</td>\n",
       "      <td>0.01</td>\n",
       "      <td>0.00</td>\n",
       "      <td>NaN</td>\n",
       "      <td>NaN</td>\n",
       "      <td>NaN</td>\n",
       "    </tr>\n",
       "    <tr>\n",
       "      <th>16711</th>\n",
       "      <td>LMA Manager 2007</td>\n",
       "      <td>X360</td>\n",
       "      <td>2006.0</td>\n",
       "      <td>Sports</td>\n",
       "      <td>0.00</td>\n",
       "      <td>0.01</td>\n",
       "      <td>0.00</td>\n",
       "      <td>0.00</td>\n",
       "      <td>NaN</td>\n",
       "      <td>NaN</td>\n",
       "      <td>NaN</td>\n",
       "    </tr>\n",
       "    <tr>\n",
       "      <th>16712</th>\n",
       "      <td>Haitaka no Psychedelica</td>\n",
       "      <td>PSV</td>\n",
       "      <td>2016.0</td>\n",
       "      <td>Adventure</td>\n",
       "      <td>0.00</td>\n",
       "      <td>0.00</td>\n",
       "      <td>0.01</td>\n",
       "      <td>0.00</td>\n",
       "      <td>NaN</td>\n",
       "      <td>NaN</td>\n",
       "      <td>NaN</td>\n",
       "    </tr>\n",
       "    <tr>\n",
       "      <th>16713</th>\n",
       "      <td>Spirits &amp; Spells</td>\n",
       "      <td>GBA</td>\n",
       "      <td>2003.0</td>\n",
       "      <td>Platform</td>\n",
       "      <td>0.01</td>\n",
       "      <td>0.00</td>\n",
       "      <td>0.00</td>\n",
       "      <td>0.00</td>\n",
       "      <td>NaN</td>\n",
       "      <td>NaN</td>\n",
       "      <td>NaN</td>\n",
       "    </tr>\n",
       "    <tr>\n",
       "      <th>16714</th>\n",
       "      <td>Winning Post 8 2016</td>\n",
       "      <td>PSV</td>\n",
       "      <td>2016.0</td>\n",
       "      <td>Simulation</td>\n",
       "      <td>0.00</td>\n",
       "      <td>0.00</td>\n",
       "      <td>0.01</td>\n",
       "      <td>0.00</td>\n",
       "      <td>NaN</td>\n",
       "      <td>NaN</td>\n",
       "      <td>NaN</td>\n",
       "    </tr>\n",
       "  </tbody>\n",
       "</table>\n",
       "<p>16715 rows × 11 columns</p>\n",
       "</div>"
      ],
      "text/plain": [
       "                                Name Platform  Year_of_Release         Genre  \\\n",
       "0                         Wii Sports      Wii           2006.0        Sports   \n",
       "1                  Super Mario Bros.      NES           1985.0      Platform   \n",
       "2                     Mario Kart Wii      Wii           2008.0        Racing   \n",
       "3                  Wii Sports Resort      Wii           2009.0        Sports   \n",
       "4           Pokemon Red/Pokemon Blue       GB           1996.0  Role-Playing   \n",
       "...                              ...      ...              ...           ...   \n",
       "16710  Samurai Warriors: Sanada Maru      PS3           2016.0        Action   \n",
       "16711               LMA Manager 2007     X360           2006.0        Sports   \n",
       "16712        Haitaka no Psychedelica      PSV           2016.0     Adventure   \n",
       "16713               Spirits & Spells      GBA           2003.0      Platform   \n",
       "16714            Winning Post 8 2016      PSV           2016.0    Simulation   \n",
       "\n",
       "       NA_sales  EU_sales  JP_sales  Other_sales  Critic_Score User_Score  \\\n",
       "0         41.36     28.96      3.77         8.45          76.0          8   \n",
       "1         29.08      3.58      6.81         0.77           NaN        NaN   \n",
       "2         15.68     12.76      3.79         3.29          82.0        8.3   \n",
       "3         15.61     10.93      3.28         2.95          80.0          8   \n",
       "4         11.27      8.89     10.22         1.00           NaN        NaN   \n",
       "...         ...       ...       ...          ...           ...        ...   \n",
       "16710      0.00      0.00      0.01         0.00           NaN        NaN   \n",
       "16711      0.00      0.01      0.00         0.00           NaN        NaN   \n",
       "16712      0.00      0.00      0.01         0.00           NaN        NaN   \n",
       "16713      0.01      0.00      0.00         0.00           NaN        NaN   \n",
       "16714      0.00      0.00      0.01         0.00           NaN        NaN   \n",
       "\n",
       "      Rating  \n",
       "0          E  \n",
       "1        NaN  \n",
       "2          E  \n",
       "3          E  \n",
       "4        NaN  \n",
       "...      ...  \n",
       "16710    NaN  \n",
       "16711    NaN  \n",
       "16712    NaN  \n",
       "16713    NaN  \n",
       "16714    NaN  \n",
       "\n",
       "[16715 rows x 11 columns]"
      ]
     },
     "execution_count": 3,
     "metadata": {},
     "output_type": "execute_result"
    }
   ],
   "source": [
    "df_games"
   ]
  },
  {
   "cell_type": "code",
   "execution_count": 4,
   "id": "a7ba95b0",
   "metadata": {},
   "outputs": [],
   "source": [
    "df_games.columns = df_games.columns.str.lower()"
   ]
  },
  {
   "cell_type": "code",
   "execution_count": 5,
   "id": "b7a68271",
   "metadata": {},
   "outputs": [
    {
     "data": {
      "application/vnd.microsoft.datawrangler.viewer.v0+json": {
       "columns": [
        {
         "name": "index",
         "rawType": "int64",
         "type": "integer"
        },
        {
         "name": "name",
         "rawType": "object",
         "type": "string"
        },
        {
         "name": "platform",
         "rawType": "object",
         "type": "string"
        },
        {
         "name": "year_of_release",
         "rawType": "float64",
         "type": "float"
        },
        {
         "name": "genre",
         "rawType": "object",
         "type": "string"
        },
        {
         "name": "na_sales",
         "rawType": "float64",
         "type": "float"
        },
        {
         "name": "eu_sales",
         "rawType": "float64",
         "type": "float"
        },
        {
         "name": "jp_sales",
         "rawType": "float64",
         "type": "float"
        },
        {
         "name": "other_sales",
         "rawType": "float64",
         "type": "float"
        },
        {
         "name": "critic_score",
         "rawType": "float64",
         "type": "float"
        },
        {
         "name": "user_score",
         "rawType": "object",
         "type": "unknown"
        },
        {
         "name": "rating",
         "rawType": "object",
         "type": "unknown"
        }
       ],
       "ref": "51b76b22-10e1-47d4-905e-5e7c75866308",
       "rows": [
        [
         "0",
         "Wii Sports",
         "Wii",
         "2006.0",
         "Sports",
         "41.36",
         "28.96",
         "3.77",
         "8.45",
         "76.0",
         "8",
         "E"
        ],
        [
         "1",
         "Super Mario Bros.",
         "NES",
         "1985.0",
         "Platform",
         "29.08",
         "3.58",
         "6.81",
         "0.77",
         null,
         null,
         null
        ],
        [
         "2",
         "Mario Kart Wii",
         "Wii",
         "2008.0",
         "Racing",
         "15.68",
         "12.76",
         "3.79",
         "3.29",
         "82.0",
         "8.3",
         "E"
        ],
        [
         "3",
         "Wii Sports Resort",
         "Wii",
         "2009.0",
         "Sports",
         "15.61",
         "10.93",
         "3.28",
         "2.95",
         "80.0",
         "8",
         "E"
        ],
        [
         "4",
         "Pokemon Red/Pokemon Blue",
         "GB",
         "1996.0",
         "Role-Playing",
         "11.27",
         "8.89",
         "10.22",
         "1.0",
         null,
         null,
         null
        ]
       ],
       "shape": {
        "columns": 11,
        "rows": 5
       }
      },
      "text/html": [
       "<div>\n",
       "<style scoped>\n",
       "    .dataframe tbody tr th:only-of-type {\n",
       "        vertical-align: middle;\n",
       "    }\n",
       "\n",
       "    .dataframe tbody tr th {\n",
       "        vertical-align: top;\n",
       "    }\n",
       "\n",
       "    .dataframe thead th {\n",
       "        text-align: right;\n",
       "    }\n",
       "</style>\n",
       "<table border=\"1\" class=\"dataframe\">\n",
       "  <thead>\n",
       "    <tr style=\"text-align: right;\">\n",
       "      <th></th>\n",
       "      <th>name</th>\n",
       "      <th>platform</th>\n",
       "      <th>year_of_release</th>\n",
       "      <th>genre</th>\n",
       "      <th>na_sales</th>\n",
       "      <th>eu_sales</th>\n",
       "      <th>jp_sales</th>\n",
       "      <th>other_sales</th>\n",
       "      <th>critic_score</th>\n",
       "      <th>user_score</th>\n",
       "      <th>rating</th>\n",
       "    </tr>\n",
       "  </thead>\n",
       "  <tbody>\n",
       "    <tr>\n",
       "      <th>0</th>\n",
       "      <td>Wii Sports</td>\n",
       "      <td>Wii</td>\n",
       "      <td>2006.0</td>\n",
       "      <td>Sports</td>\n",
       "      <td>41.36</td>\n",
       "      <td>28.96</td>\n",
       "      <td>3.77</td>\n",
       "      <td>8.45</td>\n",
       "      <td>76.0</td>\n",
       "      <td>8</td>\n",
       "      <td>E</td>\n",
       "    </tr>\n",
       "    <tr>\n",
       "      <th>1</th>\n",
       "      <td>Super Mario Bros.</td>\n",
       "      <td>NES</td>\n",
       "      <td>1985.0</td>\n",
       "      <td>Platform</td>\n",
       "      <td>29.08</td>\n",
       "      <td>3.58</td>\n",
       "      <td>6.81</td>\n",
       "      <td>0.77</td>\n",
       "      <td>NaN</td>\n",
       "      <td>NaN</td>\n",
       "      <td>NaN</td>\n",
       "    </tr>\n",
       "    <tr>\n",
       "      <th>2</th>\n",
       "      <td>Mario Kart Wii</td>\n",
       "      <td>Wii</td>\n",
       "      <td>2008.0</td>\n",
       "      <td>Racing</td>\n",
       "      <td>15.68</td>\n",
       "      <td>12.76</td>\n",
       "      <td>3.79</td>\n",
       "      <td>3.29</td>\n",
       "      <td>82.0</td>\n",
       "      <td>8.3</td>\n",
       "      <td>E</td>\n",
       "    </tr>\n",
       "    <tr>\n",
       "      <th>3</th>\n",
       "      <td>Wii Sports Resort</td>\n",
       "      <td>Wii</td>\n",
       "      <td>2009.0</td>\n",
       "      <td>Sports</td>\n",
       "      <td>15.61</td>\n",
       "      <td>10.93</td>\n",
       "      <td>3.28</td>\n",
       "      <td>2.95</td>\n",
       "      <td>80.0</td>\n",
       "      <td>8</td>\n",
       "      <td>E</td>\n",
       "    </tr>\n",
       "    <tr>\n",
       "      <th>4</th>\n",
       "      <td>Pokemon Red/Pokemon Blue</td>\n",
       "      <td>GB</td>\n",
       "      <td>1996.0</td>\n",
       "      <td>Role-Playing</td>\n",
       "      <td>11.27</td>\n",
       "      <td>8.89</td>\n",
       "      <td>10.22</td>\n",
       "      <td>1.00</td>\n",
       "      <td>NaN</td>\n",
       "      <td>NaN</td>\n",
       "      <td>NaN</td>\n",
       "    </tr>\n",
       "  </tbody>\n",
       "</table>\n",
       "</div>"
      ],
      "text/plain": [
       "                       name platform  year_of_release         genre  na_sales  \\\n",
       "0                Wii Sports      Wii           2006.0        Sports     41.36   \n",
       "1         Super Mario Bros.      NES           1985.0      Platform     29.08   \n",
       "2            Mario Kart Wii      Wii           2008.0        Racing     15.68   \n",
       "3         Wii Sports Resort      Wii           2009.0        Sports     15.61   \n",
       "4  Pokemon Red/Pokemon Blue       GB           1996.0  Role-Playing     11.27   \n",
       "\n",
       "   eu_sales  jp_sales  other_sales  critic_score user_score rating  \n",
       "0     28.96      3.77         8.45          76.0          8      E  \n",
       "1      3.58      6.81         0.77           NaN        NaN    NaN  \n",
       "2     12.76      3.79         3.29          82.0        8.3      E  \n",
       "3     10.93      3.28         2.95          80.0          8      E  \n",
       "4      8.89     10.22         1.00           NaN        NaN    NaN  "
      ]
     },
     "execution_count": 5,
     "metadata": {},
     "output_type": "execute_result"
    }
   ],
   "source": [
    "df_games.head()"
   ]
  },
  {
   "cell_type": "code",
   "execution_count": 6,
   "id": "d45ec6dd",
   "metadata": {},
   "outputs": [],
   "source": [
    "#cambiamos el año a entero y el user score a un valor float para poder efectuar calculos adecuados\n",
    "df_games['year_of_release'] = df_games['year_of_release'].astype('Int64')\n",
    "df_games['user_score'] = pd.to_numeric(df_games['user_score'], errors='coerce')"
   ]
  },
  {
   "cell_type": "code",
   "execution_count": 7,
   "id": "a145df9c",
   "metadata": {},
   "outputs": [
    {
     "name": "stdout",
     "output_type": "stream",
     "text": [
      "<class 'pandas.core.frame.DataFrame'>\n",
      "RangeIndex: 16715 entries, 0 to 16714\n",
      "Data columns (total 11 columns):\n",
      " #   Column           Non-Null Count  Dtype  \n",
      "---  ------           --------------  -----  \n",
      " 0   name             16713 non-null  object \n",
      " 1   platform         16715 non-null  object \n",
      " 2   year_of_release  16446 non-null  Int64  \n",
      " 3   genre            16713 non-null  object \n",
      " 4   na_sales         16715 non-null  float64\n",
      " 5   eu_sales         16715 non-null  float64\n",
      " 6   jp_sales         16715 non-null  float64\n",
      " 7   other_sales      16715 non-null  float64\n",
      " 8   critic_score     8137 non-null   float64\n",
      " 9   user_score       7590 non-null   float64\n",
      " 10  rating           9949 non-null   object \n",
      "dtypes: Int64(1), float64(6), object(4)\n",
      "memory usage: 1.4+ MB\n"
     ]
    }
   ],
   "source": [
    "df_games.info()"
   ]
  },
  {
   "cell_type": "code",
   "execution_count": 8,
   "id": "3fcc6fd5",
   "metadata": {},
   "outputs": [],
   "source": [
    "df_games = df_games.dropna(how='all')"
   ]
  },
  {
   "cell_type": "markdown",
   "id": "58e93423",
   "metadata": {},
   "source": [
    "- No se eliminan los valores vacios y se dejan de esa forma debido a que columnas clave como ventas en las diferentes regiones contienen datos y eliminarlos podría representar un sesgo en la información a analizar\n",
    "\n",
    "- La plataforma para la cual fueron desarrollados está siempre llena, podemos intuir que datos como nombre pudo no ser declarado por el programador y demas información como año de lanzamiento, genero y los diversos ratings son desconocidos"
   ]
  },
  {
   "cell_type": "code",
   "execution_count": 9,
   "id": "b84af715",
   "metadata": {},
   "outputs": [
    {
     "name": "stdout",
     "output_type": "stream",
     "text": [
      "name               0\n",
      "platform           0\n",
      "year_of_release    0\n",
      "genre              0\n",
      "na_sales           0\n",
      "eu_sales           0\n",
      "jp_sales           0\n",
      "other_sales        0\n",
      "critic_score       0\n",
      "user_score         0\n",
      "rating             0\n",
      "dtype: Int64\n"
     ]
    }
   ],
   "source": [
    "conteo_por_columna = (df_games == \"TBD\").sum()\n",
    "print(conteo_por_columna)"
   ]
  },
  {
   "cell_type": "code",
   "execution_count": 10,
   "id": "5f9a9a91",
   "metadata": {},
   "outputs": [],
   "source": [
    "ventas= ['na_sales','eu_sales','jp_sales','other_sales']\n",
    "df_games['total_sales'] = df_games[ventas].sum(axis= 1)"
   ]
  },
  {
   "cell_type": "code",
   "execution_count": 11,
   "id": "252dddda",
   "metadata": {},
   "outputs": [
    {
     "name": "stdout",
     "output_type": "stream",
     "text": [
      "<class 'pandas.core.frame.DataFrame'>\n",
      "RangeIndex: 16715 entries, 0 to 16714\n",
      "Data columns (total 12 columns):\n",
      " #   Column           Non-Null Count  Dtype  \n",
      "---  ------           --------------  -----  \n",
      " 0   name             16713 non-null  object \n",
      " 1   platform         16715 non-null  object \n",
      " 2   year_of_release  16446 non-null  Int64  \n",
      " 3   genre            16713 non-null  object \n",
      " 4   na_sales         16715 non-null  float64\n",
      " 5   eu_sales         16715 non-null  float64\n",
      " 6   jp_sales         16715 non-null  float64\n",
      " 7   other_sales      16715 non-null  float64\n",
      " 8   critic_score     8137 non-null   float64\n",
      " 9   user_score       7590 non-null   float64\n",
      " 10  rating           9949 non-null   object \n",
      " 11  total_sales      16715 non-null  float64\n",
      "dtypes: Int64(1), float64(7), object(4)\n",
      "memory usage: 1.5+ MB\n"
     ]
    }
   ],
   "source": [
    "df_games.info()"
   ]
  },
  {
   "cell_type": "code",
   "execution_count": 12,
   "id": "074aba4b",
   "metadata": {},
   "outputs": [
    {
     "name": "stdout",
     "output_type": "stream",
     "text": [
      "\n",
      "Información del DataFrame después de la limpieza de valores clave:\n",
      "<class 'pandas.core.frame.DataFrame'>\n",
      "Index: 16444 entries, 0 to 16714\n",
      "Data columns (total 12 columns):\n",
      " #   Column           Non-Null Count  Dtype  \n",
      "---  ------           --------------  -----  \n",
      " 0   name             16444 non-null  object \n",
      " 1   platform         16444 non-null  object \n",
      " 2   year_of_release  16444 non-null  Int64  \n",
      " 3   genre            16444 non-null  object \n",
      " 4   na_sales         16444 non-null  float64\n",
      " 5   eu_sales         16444 non-null  float64\n",
      " 6   jp_sales         16444 non-null  float64\n",
      " 7   other_sales      16444 non-null  float64\n",
      " 8   critic_score     7983 non-null   float64\n",
      " 9   user_score       7463 non-null   float64\n",
      " 10  rating           9768 non-null   object \n",
      " 11  total_sales      16444 non-null  float64\n",
      "dtypes: Int64(1), float64(7), object(4)\n",
      "memory usage: 1.6+ MB\n"
     ]
    }
   ],
   "source": [
    "# Eliminar filas con valores ausentes en columnas clave\n",
    "df_games_clean = df_games.dropna(subset=['name', 'genre', 'year_of_release'])\n",
    "\n",
    "# El manejo de 'user_score' (TBD -> NaN) ya lo hiciste.\n",
    "# Las otras columnas con NaN (scores, rating) se mantienen para no distorsionar el análisis.\n",
    "\n",
    "# Verificar la información después de la limpieza\n",
    "print(\"\\nInformación del DataFrame después de la limpieza de valores clave:\")\n",
    "df_games_clean.info()"
   ]
  },
  {
   "cell_type": "markdown",
   "id": "38394d07",
   "metadata": {},
   "source": [
    "Ahora usarás los datos limpios para buscar patrones. Recuerda que el objetivo es construir un modelo para 2017, por lo que solo importan los datos recientes."
   ]
  },
  {
   "cell_type": "code",
   "execution_count": 13,
   "id": "b7f8886e",
   "metadata": {},
   "outputs": [
    {
     "name": "stdout",
     "output_type": "stream",
     "text": [
      "\n",
      "Juegos lanzados por año:\n",
      "year_of_release\n",
      "1980       9\n",
      "1981      46\n",
      "1982      36\n",
      "1983      17\n",
      "1984      14\n",
      "1985      14\n",
      "1986      21\n",
      "1987      16\n",
      "1988      15\n",
      "1989      17\n",
      "1990      16\n",
      "1991      41\n",
      "1992      43\n",
      "1993      60\n",
      "1994     121\n",
      "1995     219\n",
      "1996     263\n",
      "1997     289\n",
      "1998     379\n",
      "1999     338\n",
      "2000     350\n",
      "2001     482\n",
      "2002     829\n",
      "2003     775\n",
      "2004     762\n",
      "2005     939\n",
      "2006    1006\n",
      "2007    1197\n",
      "2008    1427\n",
      "2009    1426\n",
      "2010    1255\n",
      "2011    1136\n",
      "2012     653\n",
      "2013     544\n",
      "2014     581\n",
      "2015     606\n",
      "2016     502\n",
      "Name: name, dtype: int64\n"
     ]
    },
    {
     "data": {
      "image/png": "[encoded data removed]",
      "text/plain": [
       "<Figure size 1200x600 with 1 Axes>"
      ]
     },
     "metadata": {},
     "output_type": "display_data"
    },
    {
     "name": "stdout",
     "output_type": "stream",
     "text": [
      "\n",
      "Datos utilizados para el análisis (desde 2013): 2233 filas\n"
     ]
    }
   ],
   "source": [
    "# Contar juegos lanzados por año\n",
    "games_by_year = df_games_clean.groupby('year_of_release')['name'].count()\n",
    "print(\"\\nJuegos lanzados por año:\")\n",
    "print(games_by_year)\n",
    "\n",
    "# Visualización para evaluar la significancia\n",
    "plt.figure(figsize=(12, 6))\n",
    "games_by_year.plot(kind='bar', title='Juegos Lanzados por Año')\n",
    "plt.xlabel('Año de Lanzamiento')\n",
    "plt.ylabel('Número de Juegos')\n",
    "plt.grid(axis='y')\n",
    "plt.show()\n",
    "\n",
    "# Determinar el periodo relevante\n",
    "# Observa la gráfica: el número de lanzamientos es alto entre 2005 y 2011,\n",
    "# pero el número de ventas ha caído significativamente en los últimos años.\n",
    "# Para un pronóstico de 2017, necesitamos la tendencia actual.\n",
    "# Se recomienda tomar datos desde el punto en que la mayoría de las plataformas actuales surgieron\n",
    "# o desde el punto de la caída de lanzamientos, lo que refleje mejor el mercado actual.\n",
    "# Un buen punto de corte suele ser 2010 o 2013, que coincide con el inicio de la actual generación de consolas.\n",
    "# Elegiremos **2013** como el punto de inicio.\n",
    "df_current = df_games_clean[df_games_clean['year_of_release'] >= 2013].copy()\n",
    "print(f\"\\nDatos utilizados para el análisis (desde 2013): {len(df_current)} filas\")"
   ]
  },
  {
   "cell_type": "markdown",
   "id": "68dfb239",
   "metadata": {},
   "source": [
    "Conclusión sobre el período: Los datos anteriores a 2013 no son representativos del mercado actual (diciembre de 2016). Usaremos datos desde 2013 en adelante para reflejar la generación actual de consolas y las tendencias recientes."
   ]
  },
  {
   "cell_type": "code",
   "execution_count": 14,
   "id": "4cd15d74",
   "metadata": {},
   "outputs": [
    {
     "name": "stdout",
     "output_type": "stream",
     "text": [
      "\n",
      "Ventas totales por plataforma (desde 2013):\n",
      "platform\n",
      "PS4     314.14\n",
      "PS3     181.43\n",
      "XOne    159.32\n",
      "3DS     143.25\n",
      "X360    136.80\n",
      "WiiU     64.63\n",
      "PC       39.43\n",
      "PSV      32.99\n",
      "Wii      13.66\n",
      "PSP       3.50\n",
      "DS        1.54\n",
      "Name: total_sales, dtype: float64\n"
     ]
    },
    {
     "data": {
      "image/png": "[encoded data removed]",
      "text/plain": [
       "<Figure size 1400x800 with 1 Axes>"
      ]
     },
     "metadata": {},
     "output_type": "display_data"
    }
   ],
   "source": [
    "# Ventas totales por plataforma en el periodo actual\n",
    "platform_sales = df_current.groupby('platform')['total_sales'].sum().sort_values(ascending=False)\n",
    "print(\"\\nVentas totales por plataforma (desde 2013):\")\n",
    "print(platform_sales)\n",
    "\n",
    "# Plataformas principales para el análisis de tendencias\n",
    "top_platforms = platform_sales.head(10).index.tolist()\n",
    "\n",
    "# Distribución de ventas anuales para las plataformas principales\n",
    "sales_trend = df_current[df_current['platform'].isin(top_platforms)].pivot_table(\n",
    "    index='year_of_release', columns='platform', values='total_sales', aggfunc='sum'\n",
    ")\n",
    "\n",
    "plt.figure(figsize=(14, 8))\n",
    "sales_trend.plot(kind='line', marker='o', ax=plt.gca(), title='Tendencia Anual de Ventas de las Plataformas Principales')\n",
    "plt.xlabel('Año de Lanzamiento')\n",
    "plt.ylabel('Ventas Globales (en millones)')\n",
    "plt.legend(title='Plataforma')\n",
    "plt.grid(True)\n",
    "plt.show()"
   ]
  },
  {
   "cell_type": "markdown",
   "id": "64ec4c65",
   "metadata": {},
   "source": [
    "Hallazgos Clave:\n",
    "\n",
    "- Plataformas Líderes (en ventas totales 2013-2016): PS4, XOne, 3DS, PS3, X360, PC.\n",
    "\n",
    "- Crecimiento vs. Reducción:\n",
    "\n",
    "    - Crecen/Potencialmente Rentables: PS4 y XOne muestran un fuerte dominio y son las plataformas clave para 2017. PC se mantiene estable.\n",
    "\n",
    "    - Reducción/Decadencia: PS3 y X360 están en claro declive, típicas de una generación que finaliza. 3DS está disminuyendo."
   ]
  },
  {
   "cell_type": "code",
   "execution_count": 15,
   "id": "e16cc0e9",
   "metadata": {},
   "outputs": [
    {
     "data": {
      "image/png": "[encoded data removed]",
      "text/plain": [
       "<Figure size 1400x800 with 1 Axes>"
      ]
     },
     "metadata": {},
     "output_type": "display_data"
    },
    {
     "name": "stdout",
     "output_type": "stream",
     "text": [
      "\n",
      "Ventas Promedio y Mediana por Juego (Plataformas Principales):\n",
      "              mean  median\n",
      "platform                  \n",
      "X360      0.735484   0.265\n",
      "XOne      0.645020   0.220\n",
      "PS4       0.801378   0.200\n",
      "WiiU      0.562000   0.200\n",
      "Wii       0.593913   0.180\n",
      "PS3       0.525884   0.150\n",
      "3DS       0.472772   0.090\n",
      "PC        0.208624   0.080\n",
      "PSV       0.092151   0.040\n",
      "PSP       0.052239   0.020\n"
     ]
    }
   ],
   "source": [
    "# Diagrama de caja para las plataformas principales\n",
    "plt.figure(figsize=(14, 8))\n",
    "sns.boxplot(x='platform', y='total_sales', data=df_current[df_current['platform'].isin(top_platforms)])\n",
    "plt.ylim(0, 2) # Limitar a ventas bajas para ver mejor la distribución, ya que hay muchos outliers\n",
    "plt.title('Distribución de Ventas Globales por Juego para Plataformas Principales (Ventas hasta 2M)')\n",
    "plt.xlabel('Plataforma')\n",
    "plt.ylabel('Ventas Globales (en millones)')\n",
    "plt.grid(axis='y')\n",
    "plt.show()\n",
    "\n",
    "# Calcular ventas promedio y mediana para las plataformas principales\n",
    "platform_stats = df_current[df_current['platform'].isin(top_platforms)].groupby('platform')['total_sales'].agg(['mean', 'median']).sort_values(by='median', ascending=False)\n",
    "print(\"\\nVentas Promedio y Mediana por Juego (Plataformas Principales):\")\n",
    "print(platform_stats)"
   ]
  },
  {
   "cell_type": "markdown",
   "id": "2e05e37f",
   "metadata": {},
   "source": [
    "Hallazgos del Diagrama de Caja:\n",
    "\n",
    "- Diferencias Significativas: Sí, las ventas varían significativamente. PS4 y XOne tienen medianas (línea en la caja) más altas, lo que indica que sus juegos tienen, en general, un rendimiento de ventas superior al de la mayoría de las otras plataformas.\n",
    "\n",
    "- Ventas Promedio vs. Mediana: La media es mucho más alta que la mediana para casi todas las plataformas (observa los valores de mean y median). Esto indica que hay muchos juegos de bajas ventas y unos pocos outliers (los \"éxitos\") que disparan el promedio. La mediana es un mejor indicador de las ventas típicas por juego."
   ]
  },
  {
   "cell_type": "markdown",
   "id": "405d69ad",
   "metadata": {},
   "source": [
    "----\n",
    "Elegiremos PS4 como plataforma popular debido a su liderazgo en ventas."
   ]
  },
  {
   "cell_type": "code",
   "execution_count": 16,
   "id": "e6c831d9",
   "metadata": {},
   "outputs": [
    {
     "data": {
      "image/png": "[encoded data removed]",
      "text/plain": [
       "<Figure size 1200x600 with 1 Axes>"
      ]
     },
     "metadata": {},
     "output_type": "display_data"
    },
    {
     "data": {
      "image/png": "[encoded data removed]",
      "text/plain": [
       "<Figure size 1200x600 with 1 Axes>"
      ]
     },
     "metadata": {},
     "output_type": "display_data"
    },
    {
     "name": "stdout",
     "output_type": "stream",
     "text": [
      "\n",
      "Correlación entre Reseñas de Críticos y Ventas (PS4): 0.41\n",
      "Correlación entre Reseñas de Usuarios y Ventas (PS4): -0.03\n"
     ]
    }
   ],
   "source": [
    "# Filtrar datos de PS4 y eliminar NaN en las columnas de reseñas para el scatter plot\n",
    "ps4_data = df_current[(df_current['platform'] == 'PS4')].dropna(subset=['critic_score', 'user_score'])\n",
    "\n",
    "# Gráfico de dispersión: Reseñas de Críticos vs. Ventas\n",
    "plt.figure(figsize=(12, 6))\n",
    "sns.scatterplot(x='critic_score', y='total_sales', data=ps4_data)\n",
    "plt.title('Ventas vs. Puntuación de Críticos (PS4)')\n",
    "plt.xlabel('Puntuación de Críticos (0-100)')\n",
    "plt.ylabel('Ventas Globales (en millones)')\n",
    "plt.grid(True)\n",
    "plt.show()\n",
    "\n",
    "# Gráfico de dispersión: Reseñas de Usuarios vs. Ventas\n",
    "plt.figure(figsize=(12, 6))\n",
    "sns.scatterplot(x='user_score', y='total_sales', data=ps4_data)\n",
    "plt.title('Ventas vs. Puntuación de Usuarios (PS4)')\n",
    "plt.xlabel('Puntuación de Usuarios (0-10)')\n",
    "plt.ylabel('Ventas Globales (en millones)')\n",
    "plt.grid(True)\n",
    "plt.show()\n",
    "\n",
    "# Calcular la correlación\n",
    "correlation_critics = ps4_data['critic_score'].corr(ps4_data['total_sales'])\n",
    "correlation_users = ps4_data['user_score'].corr(ps4_data['total_sales'])\n",
    "\n",
    "print(f\"\\nCorrelación entre Reseñas de Críticos y Ventas (PS4): {correlation_critics:.2f}\")\n",
    "print(f\"Correlación entre Reseñas de Usuarios y Ventas (PS4): {correlation_users:.2f}\")"
   ]
  },
  {
   "cell_type": "markdown",
   "id": "20b6865c",
   "metadata": {},
   "source": [
    "Conclusiones de las Reseñas (PS4):\n",
    "\n",
    "- Críticos: La correlación con las ventas es moderadamente positiva (alrededor de 0.4). Los juegos con mejores reseñas de críticos tienden a vender más.\n",
    "\n",
    "- Usuarios: La correlación es mucho más débil o insignificante (alrededor de 0.0−0.1). La opinión del usuario promedio tiene una relación muy baja con las ventas globales del juego."
   ]
  },
  {
   "cell_type": "code",
   "execution_count": 17,
   "id": "c0f7dbef",
   "metadata": {},
   "outputs": [
    {
     "name": "stdout",
     "output_type": "stream",
     "text": [
      "\n",
      "Comparación de Ventas para el juego: Call of Duty: Black Ops 3\n",
      "     platform  total_sales\n",
      "31        PS4        14.63\n",
      "99       XOne         7.39\n",
      "1049     X360         1.70\n",
      "1062      PS3         1.69\n",
      "6463       PC         0.26\n"
     ]
    }
   ],
   "source": [
    "# Seleccionar un juego con lanzamientos en múltiples plataformas populares (ej. PS4, XOne, PC)\n",
    "multiplatform_games = df_current.groupby('name').filter(lambda x: len(x['platform'].unique()) > 1)\n",
    "# Elegir un juego popular y reciente para el ejemplo\n",
    "game_to_compare = multiplatform_games[multiplatform_games['platform'].isin(['PS4', 'XOne', 'PC'])].sort_values(by='total_sales', ascending=False)['name'].iloc[0]\n",
    "\n",
    "comparison_sales = df_current[df_current['name'] == game_to_compare][['platform', 'total_sales']]\n",
    "print(f\"\\nComparación de Ventas para el juego: {game_to_compare}\")\n",
    "print(comparison_sales)"
   ]
  },
  {
   "cell_type": "markdown",
   "id": "90e3b6c0",
   "metadata": {},
   "source": [
    "Conclusión de la Comparación: Generalmente, los juegos multiplataforma muestran las mayores ventas en la plataforma dominante (en este periodo, PS4), incluso si las calificaciones de los críticos/usuarios son similares. El alcance de la base instalada de la consola es un factor principal."
   ]
  },
  {
   "cell_type": "code",
   "execution_count": 18,
   "id": "7e44dcdb",
   "metadata": {},
   "outputs": [
    {
     "name": "stdout",
     "output_type": "stream",
     "text": [
      "\n",
      "Ventas Totales por Género (desde 2013):\n",
      "genre\n",
      "Action          321.87\n",
      "Shooter         232.98\n",
      "Sports          150.65\n",
      "Role-Playing    145.89\n",
      "Misc             62.82\n",
      "Platform         42.63\n",
      "Racing           39.89\n",
      "Fighting         35.31\n",
      "Adventure        23.64\n",
      "Simulation       21.76\n",
      "Strategy         10.08\n",
      "Puzzle            3.17\n",
      "Name: total_sales, dtype: float64\n",
      "\n",
      "Ventas Promedio por Juego por Género (desde 2013):\n",
      "genre\n",
      "Shooter         1.245882\n",
      "Sports          0.703972\n",
      "Platform        0.576081\n",
      "Role-Playing    0.499623\n",
      "Racing          0.469294\n",
      "Fighting        0.441375\n",
      "Action          0.420196\n",
      "Misc            0.405290\n",
      "Simulation      0.350968\n",
      "Puzzle          0.186471\n",
      "Strategy        0.180000\n",
      "Adventure       0.096490\n",
      "Name: total_sales, dtype: float64\n"
     ]
    }
   ],
   "source": [
    "# Ventas totales por género en el periodo actual\n",
    "genre_sales = df_current.groupby('genre')['total_sales'].sum().sort_values(ascending=False)\n",
    "print(\"\\nVentas Totales por Género (desde 2013):\")\n",
    "print(genre_sales)\n",
    "\n",
    "# Media de ventas por juego por género\n",
    "genre_mean_sales = df_current.groupby('genre')['total_sales'].mean().sort_values(ascending=False)\n",
    "print(\"\\nVentas Promedio por Juego por Género (desde 2013):\")\n",
    "print(genre_mean_sales)"
   ]
  },
  {
   "cell_type": "markdown",
   "id": "6396cc8b",
   "metadata": {},
   "source": [
    "Hallazgos de Género:\n",
    "\n",
    "- Más Rentables (Ventas Totales): Action (es el género con más lanzamientos y más ventas totales), Shooter, y Sports son los líderes en ventas agregadas.\n",
    "\n",
    "- Más Rentables (Ventas Promedio/Juego): El género Shooter a menudo tiene las ventas promedio por juego más altas, lo que indica que sus lanzamientos son consistentemente grandes éxitos. Platform y Racing también pueden mostrar una media alta, pero cuidado con los géneros de nicho donde un solo éxito distorsiona la media.\n",
    "\n",
    "- Menos Rentables: Puzzle, Strategy y Adventure son generalmente los géneros con las ventas totales y promedio más bajas."
   ]
  },
  {
   "cell_type": "code",
   "execution_count": 19,
   "id": "8dc95fa7",
   "metadata": {},
   "outputs": [
    {
     "name": "stdout",
     "output_type": "stream",
     "text": [
      "\n",
      "Top 5 Plataformas en NA:\n",
      "platform\n",
      "PS4     108.74\n",
      "XOne     93.12\n",
      "X360     81.66\n",
      "PS3      63.50\n",
      "3DS      38.20\n",
      "Name: na_sales, dtype: float64\n",
      "\n",
      "Top 5 Plataformas en EU:\n",
      "platform\n",
      "PS4     141.09\n",
      "PS3      67.81\n",
      "XOne     51.59\n",
      "X360     42.52\n",
      "3DS      30.96\n",
      "Name: eu_sales, dtype: float64\n",
      "\n",
      "Top 5 Plataformas en JP:\n",
      "platform\n",
      "3DS     67.81\n",
      "PS3     23.35\n",
      "PSV     18.59\n",
      "PS4     15.96\n",
      "WiiU    10.88\n",
      "Name: jp_sales, dtype: float64\n"
     ]
    }
   ],
   "source": [
    "regions = ['na_sales', 'eu_sales', 'jp_sales']\n",
    "\n",
    "for region in regions:\n",
    "    top_platforms_region = df_current.groupby('platform')[region].sum().sort_values(ascending=False).head(5)\n",
    "    print(f\"\\nTop 5 Plataformas en {region.upper().replace('_SALES', '')}:\")\n",
    "    print(top_platforms_region)"
   ]
  },
  {
   "cell_type": "markdown",
   "id": "aa261cee",
   "metadata": {},
   "source": [
    "Análisis de Cuotas de Mercado (Variaciones):\n",
    "\n",
    "- Norteamérica (NA) y Europa (EU): La estructura es similar, dominada por PS4 y XOne. XOne es ligeramente más fuerte en NA que en EU. Las consolas de última generación son los líderes claros.\n",
    "\n",
    "- Japón (JP): El mercado es muy diferente. 3DS es la plataforma principal, seguida por PS4 y PSV. XOne y las consolas de Microsoft en general tienen una presencia insignificante. El enfoque es más en consolas portátiles y juegos de estilo japonés."
   ]
  },
  {
   "cell_type": "code",
   "execution_count": 20,
   "id": "de7dfb67",
   "metadata": {},
   "outputs": [
    {
     "name": "stdout",
     "output_type": "stream",
     "text": [
      "\n",
      "Top 5 Géneros en NA:\n",
      "genre\n",
      "Action          126.05\n",
      "Shooter         109.74\n",
      "Sports           65.27\n",
      "Role-Playing     46.40\n",
      "Misc             27.49\n",
      "Name: na_sales, dtype: float64\n",
      "\n",
      "Top 5 Géneros en EU:\n",
      "genre\n",
      "Action          118.13\n",
      "Shooter          87.86\n",
      "Sports           60.52\n",
      "Role-Playing     36.97\n",
      "Racing           20.19\n",
      "Name: eu_sales, dtype: float64\n",
      "\n",
      "Top 5 Géneros en JP:\n",
      "genre\n",
      "Role-Playing    51.04\n",
      "Action          40.49\n",
      "Misc             9.20\n",
      "Fighting         7.65\n",
      "Shooter          6.61\n",
      "Name: jp_sales, dtype: float64\n"
     ]
    }
   ],
   "source": [
    "for region in regions:\n",
    "    top_genres_region = df_current.groupby('genre')[region].sum().sort_values(ascending=False).head(5)\n",
    "    print(f\"\\nTop 5 Géneros en {region.upper().replace('_SALES', '')}:\")\n",
    "    print(top_genres_region)"
   ]
  },
  {
   "cell_type": "markdown",
   "id": "a2990f6e",
   "metadata": {},
   "source": [
    "Análisis de Géneros (Diferencias):\n",
    "\n",
    "- NA y EU: Los géneros dominantes son Action, Shooter y Sports (juegos de alto presupuesto, a menudo Occidentales).\n",
    "\n",
    "- JP: Los géneros dominantes son Role-Playing (RPG), Action y Fighting. Role-Playing es el género más popular, reflejando el fuerte interés por los JRPG (Japanese Role-Playing Games). Shooter y Sports tienen menor impacto que en NA/EU."
   ]
  },
  {
   "cell_type": "code",
   "execution_count": 21,
   "id": "ea4d8af0",
   "metadata": {},
   "outputs": [
    {
     "name": "stdout",
     "output_type": "stream",
     "text": [
      "\n",
      "Ventas por Clasificación ESRB en NA:\n",
      "rating\n",
      "M          165.21\n",
      "Missing     89.42\n",
      "E           79.05\n",
      "E10+        54.24\n",
      "T           49.79\n",
      "Name: na_sales, dtype: float64\n",
      "\n",
      "Ventas por Clasificación ESRB en EU:\n",
      "rating\n",
      "M          145.32\n",
      "E           83.36\n",
      "Missing     78.91\n",
      "E10+        42.69\n",
      "T           41.95\n",
      "Name: eu_sales, dtype: float64\n",
      "\n",
      "Ventas por Clasificación ESRB en JP:\n",
      "rating\n",
      "Missing    85.05\n",
      "T          20.59\n",
      "E          15.14\n",
      "M          14.11\n",
      "E10+        5.89\n",
      "Name: jp_sales, dtype: float64\n"
     ]
    }
   ],
   "source": [
    "# Rellenar valores ausentes de 'rating' con 'Missing' para incluirlos en el análisis\n",
    "df_current['rating'] = df_current['rating'].fillna('Missing')\n",
    "\n",
    "for region in regions:\n",
    "    rating_sales = df_current.groupby('rating')[region].sum().sort_values(ascending=False)\n",
    "    print(f\"\\nVentas por Clasificación ESRB en {region.upper().replace('_SALES', '')}:\")\n",
    "    print(rating_sales)"
   ]
  },
  {
   "cell_type": "markdown",
   "id": "139a28e3",
   "metadata": {},
   "source": [
    "Análisis de Clasificación ESRB:\n",
    "\n",
    "- Norteamérica (NA) y Europa (EU): Las clasificaciones M (Mature, +17) y T (Teen, +13) son las que generan más ventas, seguidas de E (Everyone, para todos). Esto indica que el mercado adulto/adolescente es el más rentable en estas regiones. La clasificación Missing tiene ventas significativas, lo que sugiere muchos juegos no clasificados vendidos (algunos podrían ser juegos indies o lanzamientos exclusivos de otras regiones).\n",
    "\n",
    "- Japón (JP): La clasificación Missing es, por mucho, la que más ventas genera. Esto es lógico, ya que la ESRB es una junta de Norteamérica y muchos juegos vendidos en Japón no están clasificados por ella. De las clasificaciones existentes, T y E son las más relevantes, pero el sistema ESRB es menos influyente en las ventas japonesas que en las occidentales."
   ]
  },
  {
   "cell_type": "markdown",
   "id": "de85825a",
   "metadata": {},
   "source": [
    "----\n",
    "Hipótesis 1: Xbox One vs. PC User Scores\n",
    "\n",
    "    Hipótesis Nula (H0): Las calificaciones promedio de los usuarios para las plataformas Xbox One y PC son iguales. (μXbox One=μ PC)\n",
    "\n",
    "    Hipótesis Alternativa (H1): Las calificaciones promedio de los usuarios para las plataformas Xbox One y PC son diferentes. (μXbox One!=μ PC)\n",
    "\n",
    "    Criterio de Prueba: Prueba t de Student para muestras independientes (bilateral).\n",
    "    Umbral α: Usaremos α=0.05."
   ]
  },
  {
   "cell_type": "code",
   "execution_count": 22,
   "id": "e4395c6c",
   "metadata": {},
   "outputs": [
    {
     "name": "stdout",
     "output_type": "stream",
     "text": [
      "\n",
      "--- Prueba de Hipótesis 1 (Xbox One vs. PC User Scores) ---\n",
      "P-valor: 0.1401\n",
      "Conclusión: No podemos rechazar la hipótesis nula. Las calificaciones promedio de los usuarios son probablemente iguales.\n"
     ]
    }
   ],
   "source": [
    "from scipy import stats\n",
    "\n",
    "# Filtrar las calificaciones de usuario (excluyendo NaN)\n",
    "xbox_scores = df_current[(df_current['platform'] == 'XOne') & (df_current['user_score'].notna())]['user_score']\n",
    "pc_scores = df_current[(df_current['platform'] == 'PC') & (df_current['user_score'].notna())]['user_score']\n",
    "\n",
    "# Realizar la prueba t de Student\n",
    "# Se asume varianzas iguales (equal_var=True) por defecto, pero se recomienda verificar.\n",
    "# Para este ejercicio, usaremos la prueba estándar.\n",
    "t_statistic, p_value_1 = stats.ttest_ind(xbox_scores, pc_scores)\n",
    "\n",
    "print(\"\\n--- Prueba de Hipótesis 1 (Xbox One vs. PC User Scores) ---\")\n",
    "print(f\"P-valor: {p_value_1:.4f}\")\n",
    "\n",
    "if p_value_1 < 0.05:\n",
    "    print(\"Conclusión: Rechazamos la hipótesis nula. Las calificaciones promedio de los usuarios son diferentes.\")\n",
    "else:\n",
    "    print(\"Conclusión: No podemos rechazar la hipótesis nula. Las calificaciones promedio de los usuarios son probablemente iguales.\")"
   ]
  },
  {
   "cell_type": "markdown",
   "id": "f9851346",
   "metadata": {},
   "source": [
    "----\n",
    "Hipótesis 2: Géneros de Acción vs. Deportes User Scores\n",
    "\n",
    "    Hipótesis Nula (H0): Las calificaciones promedio de los usuarios para los géneros de Acción y Deportes son iguales. (μAction=μSports)\n",
    "\n",
    "    Hipótesis Alternativa (H1): Las calificaciones promedio de los usuarios para los géneros de Acción y Deportes son diferentes. (μAction!=μSports)\n",
    "\n",
    "    Criterio de Prueba: Prueba t de Student para muestras independientes (bilateral).\n",
    "    Umbral α: Usaremos α=0.05."
   ]
  },
  {
   "cell_type": "code",
   "execution_count": 23,
   "id": "586f9bd4",
   "metadata": {},
   "outputs": [
    {
     "name": "stdout",
     "output_type": "stream",
     "text": [
      "\n",
      "--- Prueba de Hipótesis 2 (Géneros Acción vs. Deportes User Scores) ---\n",
      "P-valor: 0.0000\n",
      "Conclusión: Rechazamos la hipótesis nula. Las calificaciones promedio de los usuarios son diferentes.\n"
     ]
    }
   ],
   "source": [
    "# Filtrar las calificaciones de usuario (excluyendo NaN)\n",
    "action_scores = df_current[(df_current['genre'] == 'Action') & (df_current['user_score'].notna())]['user_score']\n",
    "sports_scores = df_current[(df_current['genre'] == 'Sports') & (df_current['user_score'].notna())]['user_score']\n",
    "\n",
    "# Realizar la prueba t de Student\n",
    "t_statistic, p_value_2 = stats.ttest_ind(action_scores, sports_scores)\n",
    "\n",
    "print(\"\\n--- Prueba de Hipótesis 2 (Géneros Acción vs. Deportes User Scores) ---\")\n",
    "print(f\"P-valor: {p_value_2:.4f}\")\n",
    "\n",
    "if p_value_2 < 0.05:\n",
    "    print(\"Conclusión: Rechazamos la hipótesis nula. Las calificaciones promedio de los usuarios son diferentes.\")\n",
    "else:\n",
    "    print(\"Conclusión: No podemos rechazar la hipótesis nula. Las calificaciones promedio de los usuarios son probablemente iguales.\")"
   ]
  }
 ],
 "metadata": {
  "kernelspec": {
   "display_name": "Python 3",
   "language": "python",
   "name": "python3"
  },
  "language_info": {
   "codemirror_mode": {
    "name": "ipython",
    "version": 3
   },
   "file_extension": ".py",
   "mimetype": "text/x-python",
   "name": "python",
   "nbconvert_exporter": "python",
   "pygments_lexer": "ipython3",
   "version": "3.11.9"
  }
 },
 "nbformat": 4,
 "nbformat_minor": 5
}
